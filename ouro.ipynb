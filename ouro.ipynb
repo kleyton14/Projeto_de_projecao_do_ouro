{
 "cells": [
  {
   "cell_type": "code",
   "execution_count": 161,
   "metadata": {},
   "outputs": [],
   "source": [
    "import pandas as pd\n",
    "import numpy as np\n",
    "from pmdarima.arima import auto_arima\n",
    "import matplotlib.pylab as plt\n",
    "%matplotlib inline\n",
    "import matplotlib.pyplot as plt\n",
    "import matplotlib.ticker as ticker\n",
    "from matplotlib.pylab import rcParams\n",
    "rcParams['figure.figsize'] = 15, 6"
   ]
  },
  {
   "cell_type": "code",
   "execution_count": 180,
   "metadata": {},
   "outputs": [
    {
     "data": {
      "text/html": [
       "<div>\n",
       "<style scoped>\n",
       "    .dataframe tbody tr th:only-of-type {\n",
       "        vertical-align: middle;\n",
       "    }\n",
       "\n",
       "    .dataframe tbody tr th {\n",
       "        vertical-align: top;\n",
       "    }\n",
       "\n",
       "    .dataframe thead th {\n",
       "        text-align: right;\n",
       "    }\n",
       "</style>\n",
       "<table border=\"1\" class=\"dataframe\">\n",
       "  <thead>\n",
       "    <tr style=\"text-align: right;\">\n",
       "      <th></th>\n",
       "      <th>Data</th>\n",
       "      <th>Último</th>\n",
       "    </tr>\n",
       "  </thead>\n",
       "  <tbody>\n",
       "    <tr>\n",
       "      <th>280</th>\n",
       "      <td>01.01.2000</td>\n",
       "      <td>286</td>\n",
       "    </tr>\n",
       "    <tr>\n",
       "      <th>279</th>\n",
       "      <td>01.02.2000</td>\n",
       "      <td>295</td>\n",
       "    </tr>\n",
       "    <tr>\n",
       "      <th>278</th>\n",
       "      <td>01.03.2000</td>\n",
       "      <td>281</td>\n",
       "    </tr>\n",
       "    <tr>\n",
       "      <th>277</th>\n",
       "      <td>01.04.2000</td>\n",
       "      <td>276</td>\n",
       "    </tr>\n",
       "    <tr>\n",
       "      <th>276</th>\n",
       "      <td>01.05.2000</td>\n",
       "      <td>274</td>\n",
       "    </tr>\n",
       "    <tr>\n",
       "      <th>...</th>\n",
       "      <td>...</td>\n",
       "      <td>...</td>\n",
       "    </tr>\n",
       "    <tr>\n",
       "      <th>4</th>\n",
       "      <td>01.01.2023</td>\n",
       "      <td>1962</td>\n",
       "    </tr>\n",
       "    <tr>\n",
       "      <th>3</th>\n",
       "      <td>01.02.2023</td>\n",
       "      <td>1853</td>\n",
       "    </tr>\n",
       "    <tr>\n",
       "      <th>2</th>\n",
       "      <td>01.03.2023</td>\n",
       "      <td>1969</td>\n",
       "    </tr>\n",
       "    <tr>\n",
       "      <th>1</th>\n",
       "      <td>01.04.2023</td>\n",
       "      <td>1999</td>\n",
       "    </tr>\n",
       "    <tr>\n",
       "      <th>0</th>\n",
       "      <td>01.05.2023</td>\n",
       "      <td>2012</td>\n",
       "    </tr>\n",
       "  </tbody>\n",
       "</table>\n",
       "<p>281 rows × 2 columns</p>\n",
       "</div>"
      ],
      "text/plain": [
       "           Data  Último\n",
       "280  01.01.2000     286\n",
       "279  01.02.2000     295\n",
       "278  01.03.2000     281\n",
       "277  01.04.2000     276\n",
       "276  01.05.2000     274\n",
       "..          ...     ...\n",
       "4    01.01.2023    1962\n",
       "3    01.02.2023    1853\n",
       "2    01.03.2023    1969\n",
       "1    01.04.2023    1999\n",
       "0    01.05.2023    2012\n",
       "\n",
       "[281 rows x 2 columns]"
      ]
     },
     "execution_count": 180,
     "metadata": {},
     "output_type": "execute_result"
    }
   ],
   "source": [
    "#Importando dados csv e deletando dados sem importância para o experimento, organizando pelo index e transformando os dados de preço de string para inteiro para processamento do algorítimo e melhor visualização\n",
    "gold_1_0=pd.read_csv(\"C:/users/Valdir Oliveira/Downloads/Ouro Futuros Dados Históricos.csv\")\n",
    "gold_1_0\n",
    "del gold_1_0[\"Var%\"]\n",
    "del gold_1_0['Vol.']\n",
    "del gold_1_0 [\"Mínima\"]\n",
    "del gold_1_0['Máxima']\n",
    "del gold_1_0['Abertura']\n",
    "\n",
    "gold_1_0=gold_1_0.sort_index(ascending=False)\n",
    "\n",
    "gold_1_0[\"Último\"]= gold_1_0[\"Último\"].apply(lambda x: x.replace(\",\",\".\"))\n",
    "gold_1_0[\"Último\"]= gold_1_0[\"Último\"].apply(lambda x: x.replace(\".\",\"\"))\n",
    "gold_1_0[\"Último\"]=gold_1_0[\"Último\"].str[:-2]\n",
    "gold_1_0[\"Último\"]=gold_1_0[\"Último\"].astype(int)\n",
    "gold_1_0\n",
    "\n",
    "\n"
   ]
  },
  {
   "cell_type": "code",
   "execution_count": 181,
   "metadata": {},
   "outputs": [
    {
     "data": {
      "text/html": [
       "<div>\n",
       "<style scoped>\n",
       "    .dataframe tbody tr th:only-of-type {\n",
       "        vertical-align: middle;\n",
       "    }\n",
       "\n",
       "    .dataframe tbody tr th {\n",
       "        vertical-align: top;\n",
       "    }\n",
       "\n",
       "    .dataframe thead th {\n",
       "        text-align: right;\n",
       "    }\n",
       "</style>\n",
       "<table border=\"1\" class=\"dataframe\">\n",
       "  <thead>\n",
       "    <tr style=\"text-align: right;\">\n",
       "      <th></th>\n",
       "      <th>Data</th>\n",
       "      <th>Último</th>\n",
       "    </tr>\n",
       "  </thead>\n",
       "  <tbody>\n",
       "    <tr>\n",
       "      <th>280</th>\n",
       "      <td>2000-01-31</td>\n",
       "      <td>286</td>\n",
       "    </tr>\n",
       "    <tr>\n",
       "      <th>279</th>\n",
       "      <td>2000-02-29</td>\n",
       "      <td>295</td>\n",
       "    </tr>\n",
       "    <tr>\n",
       "      <th>278</th>\n",
       "      <td>2000-03-31</td>\n",
       "      <td>281</td>\n",
       "    </tr>\n",
       "    <tr>\n",
       "      <th>277</th>\n",
       "      <td>2000-04-30</td>\n",
       "      <td>276</td>\n",
       "    </tr>\n",
       "    <tr>\n",
       "      <th>276</th>\n",
       "      <td>2000-05-31</td>\n",
       "      <td>274</td>\n",
       "    </tr>\n",
       "    <tr>\n",
       "      <th>...</th>\n",
       "      <td>...</td>\n",
       "      <td>...</td>\n",
       "    </tr>\n",
       "    <tr>\n",
       "      <th>4</th>\n",
       "      <td>2023-01-31</td>\n",
       "      <td>1962</td>\n",
       "    </tr>\n",
       "    <tr>\n",
       "      <th>3</th>\n",
       "      <td>2023-02-28</td>\n",
       "      <td>1853</td>\n",
       "    </tr>\n",
       "    <tr>\n",
       "      <th>2</th>\n",
       "      <td>2023-03-31</td>\n",
       "      <td>1969</td>\n",
       "    </tr>\n",
       "    <tr>\n",
       "      <th>1</th>\n",
       "      <td>2023-04-30</td>\n",
       "      <td>1999</td>\n",
       "    </tr>\n",
       "    <tr>\n",
       "      <th>0</th>\n",
       "      <td>2023-05-31</td>\n",
       "      <td>2012</td>\n",
       "    </tr>\n",
       "  </tbody>\n",
       "</table>\n",
       "<p>281 rows × 2 columns</p>\n",
       "</div>"
      ],
      "text/plain": [
       "          Data  Último\n",
       "280 2000-01-31     286\n",
       "279 2000-02-29     295\n",
       "278 2000-03-31     281\n",
       "277 2000-04-30     276\n",
       "276 2000-05-31     274\n",
       "..         ...     ...\n",
       "4   2023-01-31    1962\n",
       "3   2023-02-28    1853\n",
       "2   2023-03-31    1969\n",
       "1   2023-04-30    1999\n",
       "0   2023-05-31    2012\n",
       "\n",
       "[281 rows x 2 columns]"
      ]
     },
     "execution_count": 181,
     "metadata": {},
     "output_type": "execute_result"
    }
   ],
   "source": [
    "#Colocando a coluna data em formato correto e frequência de meses\n",
    "gold_1_0['Data'] = pd.date_range(start=pd.to_datetime(gold_1_0['Data'], format=\"%d.%m.%Y\").iloc[0], \n",
    "                                 periods=len(gold_1_0), freq='M')\n",
    "gold_1_0"
   ]
  },
  {
   "cell_type": "code",
   "execution_count": 182,
   "metadata": {},
   "outputs": [
    {
     "data": {
      "text/plain": [
       "2000-01-31     286\n",
       "2000-02-29     295\n",
       "2000-03-31     281\n",
       "2000-04-30     276\n",
       "2000-05-31     274\n",
       "              ... \n",
       "2023-01-31    1962\n",
       "2023-02-28    1853\n",
       "2023-03-31    1969\n",
       "2023-04-30    1999\n",
       "2023-05-31    2012\n",
       "Name: Último, Length: 281, dtype: int32"
      ]
     },
     "execution_count": 182,
     "metadata": {},
     "output_type": "execute_result"
    }
   ],
   "source": [
    "#Colocando o index em formato de data e retirando a coluna de data para processamento do algorítimo\n",
    "gold_1_0=gold_1_0.rename(index=gold_1_0['Data'])\n",
    "gold_1_0\n",
    "gold_1_0=gold_1_0.iloc[:,1]\n",
    "gold_1_0"
   ]
  },
  {
   "cell_type": "code",
   "execution_count": 183,
   "metadata": {},
   "outputs": [
    {
     "data": {
      "text/plain": [
       "2000-01-31     286\n",
       "2000-02-29     295\n",
       "2000-03-31     281\n",
       "2000-04-30     276\n",
       "2000-05-31     274\n",
       "              ... \n",
       "2023-01-31    1962\n",
       "2023-02-28    1853\n",
       "2023-03-31    1969\n",
       "2023-04-30    1999\n",
       "2023-05-31    2012\n",
       "Freq: M, Name: Último, Length: 281, dtype: int32"
      ]
     },
     "execution_count": 183,
     "metadata": {},
     "output_type": "execute_result"
    }
   ],
   "source": [
    "#Colocando a frequência de meses\n",
    "gold_1_0=gold_1_0.asfreq(\"M\")\n",
    "gold_1_0"
   ]
  },
  {
   "cell_type": "code",
   "execution_count": 191,
   "metadata": {},
   "outputs": [
    {
     "name": "stdout",
     "output_type": "stream",
     "text": [
      " ARIMA(0,1,0)(0,0,0)[1] intercept   : AIC=3055.751, Time=0.05 sec\n",
      " ARIMA(0,1,1)(0,0,0)[1] intercept   : AIC=3052.910, Time=0.51 sec\n",
      " ARIMA(0,1,2)(0,0,0)[1] intercept   : AIC=3054.905, Time=0.51 sec\n",
      " ARIMA(0,1,3)(0,0,0)[1] intercept   : AIC=3056.863, Time=0.94 sec\n",
      " ARIMA(0,1,4)(0,0,0)[1] intercept   : AIC=3058.584, Time=0.87 sec\n",
      " ARIMA(0,1,5)(0,0,0)[1] intercept   : AIC=3059.259, Time=1.07 sec\n",
      " ARIMA(1,1,0)(0,0,0)[1] intercept   : AIC=3053.051, Time=0.04 sec\n",
      " ARIMA(1,1,1)(0,0,0)[1] intercept   : AIC=3054.905, Time=0.20 sec\n",
      " ARIMA(1,1,2)(0,0,0)[1] intercept   : AIC=3056.887, Time=0.63 sec\n",
      " ARIMA(1,1,3)(0,0,0)[1] intercept   : AIC=3057.710, Time=0.74 sec\n",
      " ARIMA(1,1,4)(0,0,0)[1] intercept   : AIC=3060.166, Time=0.57 sec\n",
      " ARIMA(2,1,0)(0,0,0)[1] intercept   : AIC=3054.878, Time=0.13 sec\n",
      " ARIMA(2,1,1)(0,0,0)[1] intercept   : AIC=3056.870, Time=0.33 sec\n",
      " ARIMA(2,1,2)(0,0,0)[1] intercept   : AIC=3058.867, Time=0.46 sec\n",
      " ARIMA(2,1,3)(0,0,0)[1] intercept   : AIC=3057.113, Time=0.88 sec\n",
      " ARIMA(3,1,0)(0,0,0)[1] intercept   : AIC=3056.802, Time=0.18 sec\n",
      " ARIMA(3,1,1)(0,0,0)[1] intercept   : AIC=3058.426, Time=1.93 sec\n",
      " ARIMA(3,1,2)(0,0,0)[1] intercept   : AIC=3060.486, Time=0.49 sec\n",
      " ARIMA(4,1,0)(0,0,0)[1] intercept   : AIC=3058.219, Time=0.31 sec\n",
      " ARIMA(4,1,1)(0,0,0)[1] intercept   : AIC=3059.959, Time=1.70 sec\n",
      " ARIMA(5,1,0)(0,0,0)[1] intercept   : AIC=3059.265, Time=0.37 sec\n",
      "\n",
      "Best model:  ARIMA(0,1,1)(0,0,0)[1] intercept\n",
      "Total fit time: 12.968 seconds\n"
     ]
    }
   ],
   "source": [
    "#Passando parâmetro para obter o melhor modelo fazendo todas combinações possíveis \n",
    "stepwise_model=auto_arima(gold_1_0, start_p=1, start_q=1, start_d=0, start_P=0, max_p=6, max_q=6,  trace=True, stepwise=False )"
   ]
  },
  {
   "cell_type": "code",
   "execution_count": 192,
   "metadata": {},
   "outputs": [
    {
     "data": {
      "text/plain": [
       "<bound method ARIMA.aic of ARIMA(order=(0, 1, 1), scoring_args={}, seasonal_order=(0, 0, 0, 1),\n",
       "      suppress_warnings=True)>"
      ]
     },
     "execution_count": 192,
     "metadata": {},
     "output_type": "execute_result"
    }
   ],
   "source": [
    "#Visualizando o melhor modelo\n",
    "stepwise_model.aic"
   ]
  },
  {
   "cell_type": "code",
   "execution_count": 193,
   "metadata": {},
   "outputs": [
    {
     "data": {
      "text/html": [
       "<style>#sk-container-id-4 {color: black;background-color: white;}#sk-container-id-4 pre{padding: 0;}#sk-container-id-4 div.sk-toggleable {background-color: white;}#sk-container-id-4 label.sk-toggleable__label {cursor: pointer;display: block;width: 100%;margin-bottom: 0;padding: 0.3em;box-sizing: border-box;text-align: center;}#sk-container-id-4 label.sk-toggleable__label-arrow:before {content: \"▸\";float: left;margin-right: 0.25em;color: #696969;}#sk-container-id-4 label.sk-toggleable__label-arrow:hover:before {color: black;}#sk-container-id-4 div.sk-estimator:hover label.sk-toggleable__label-arrow:before {color: black;}#sk-container-id-4 div.sk-toggleable__content {max-height: 0;max-width: 0;overflow: hidden;text-align: left;background-color: #f0f8ff;}#sk-container-id-4 div.sk-toggleable__content pre {margin: 0.2em;color: black;border-radius: 0.25em;background-color: #f0f8ff;}#sk-container-id-4 input.sk-toggleable__control:checked~div.sk-toggleable__content {max-height: 200px;max-width: 100%;overflow: auto;}#sk-container-id-4 input.sk-toggleable__control:checked~label.sk-toggleable__label-arrow:before {content: \"▾\";}#sk-container-id-4 div.sk-estimator input.sk-toggleable__control:checked~label.sk-toggleable__label {background-color: #d4ebff;}#sk-container-id-4 div.sk-label input.sk-toggleable__control:checked~label.sk-toggleable__label {background-color: #d4ebff;}#sk-container-id-4 input.sk-hidden--visually {border: 0;clip: rect(1px 1px 1px 1px);clip: rect(1px, 1px, 1px, 1px);height: 1px;margin: -1px;overflow: hidden;padding: 0;position: absolute;width: 1px;}#sk-container-id-4 div.sk-estimator {font-family: monospace;background-color: #f0f8ff;border: 1px dotted black;border-radius: 0.25em;box-sizing: border-box;margin-bottom: 0.5em;}#sk-container-id-4 div.sk-estimator:hover {background-color: #d4ebff;}#sk-container-id-4 div.sk-parallel-item::after {content: \"\";width: 100%;border-bottom: 1px solid gray;flex-grow: 1;}#sk-container-id-4 div.sk-label:hover label.sk-toggleable__label {background-color: #d4ebff;}#sk-container-id-4 div.sk-serial::before {content: \"\";position: absolute;border-left: 1px solid gray;box-sizing: border-box;top: 0;bottom: 0;left: 50%;z-index: 0;}#sk-container-id-4 div.sk-serial {display: flex;flex-direction: column;align-items: center;background-color: white;padding-right: 0.2em;padding-left: 0.2em;position: relative;}#sk-container-id-4 div.sk-item {position: relative;z-index: 1;}#sk-container-id-4 div.sk-parallel {display: flex;align-items: stretch;justify-content: center;background-color: white;position: relative;}#sk-container-id-4 div.sk-item::before, #sk-container-id-4 div.sk-parallel-item::before {content: \"\";position: absolute;border-left: 1px solid gray;box-sizing: border-box;top: 0;bottom: 0;left: 50%;z-index: -1;}#sk-container-id-4 div.sk-parallel-item {display: flex;flex-direction: column;z-index: 1;position: relative;background-color: white;}#sk-container-id-4 div.sk-parallel-item:first-child::after {align-self: flex-end;width: 50%;}#sk-container-id-4 div.sk-parallel-item:last-child::after {align-self: flex-start;width: 50%;}#sk-container-id-4 div.sk-parallel-item:only-child::after {width: 0;}#sk-container-id-4 div.sk-dashed-wrapped {border: 1px dashed gray;margin: 0 0.4em 0.5em 0.4em;box-sizing: border-box;padding-bottom: 0.4em;background-color: white;}#sk-container-id-4 div.sk-label label {font-family: monospace;font-weight: bold;display: inline-block;line-height: 1.2em;}#sk-container-id-4 div.sk-label-container {text-align: center;}#sk-container-id-4 div.sk-container {/* jupyter's `normalize.less` sets `[hidden] { display: none; }` but bootstrap.min.css set `[hidden] { display: none !important; }` so we also need the `!important` here to be able to override the default hidden behavior on the sphinx rendered scikit-learn.org. See: https://github.com/scikit-learn/scikit-learn/issues/21755 */display: inline-block !important;position: relative;}#sk-container-id-4 div.sk-text-repr-fallback {display: none;}</style><div id=\"sk-container-id-4\" class=\"sk-top-container\"><div class=\"sk-text-repr-fallback\"><pre> ARIMA(0,1,1)(0,0,0)[1] intercept</pre><b>In a Jupyter environment, please rerun this cell to show the HTML representation or trust the notebook. <br />On GitHub, the HTML representation is unable to render, please try loading this page with nbviewer.org.</b></div><div class=\"sk-container\" hidden><div class=\"sk-item\"><div class=\"sk-estimator sk-toggleable\"><input class=\"sk-toggleable__control sk-hidden--visually\" id=\"sk-estimator-id-4\" type=\"checkbox\" checked><label for=\"sk-estimator-id-4\" class=\"sk-toggleable__label sk-toggleable__label-arrow\">ARIMA</label><div class=\"sk-toggleable__content\"><pre> ARIMA(0,1,1)(0,0,0)[1] intercept</pre></div></div></div></div></div>"
      ],
      "text/plain": [
       "ARIMA(order=(0, 1, 1), scoring_args={}, seasonal_order=(0, 0, 0, 1),\n",
       "      suppress_warnings=True)"
      ]
     },
     "execution_count": 193,
     "metadata": {},
     "output_type": "execute_result"
    }
   ],
   "source": [
    "#Treinando o modelo\n",
    "stepwise_model.fit(gold_1_0)"
   ]
  },
  {
   "cell_type": "code",
   "execution_count": 194,
   "metadata": {},
   "outputs": [
    {
     "data": {
      "text/plain": [
       "2023-06-30    2016.610015\n",
       "2023-07-31    2022.768719\n",
       "2023-08-31    2028.927423\n",
       "2023-09-30    2035.086127\n",
       "2023-10-31    2041.244831\n",
       "                 ...     \n",
       "2029-01-31    2429.243173\n",
       "2029-02-28    2435.401877\n",
       "2029-03-31    2441.560580\n",
       "2029-04-30    2447.719284\n",
       "2029-05-31    2453.877988\n",
       "Freq: M, Length: 72, dtype: float64"
      ]
     },
     "execution_count": 194,
     "metadata": {},
     "output_type": "execute_result"
    }
   ],
   "source": [
    "#Fazendo projeção de 6 anos que da um total de 72 meses\n",
    "previsão=stepwise_model.predict(n_periods=72)\n",
    "previsão\n"
   ]
  },
  {
   "cell_type": "code",
   "execution_count": 195,
   "metadata": {},
   "outputs": [
    {
     "data": {
      "text/plain": [
       "<matplotlib.legend.Legend at 0x1ba01d21fd0>"
      ]
     },
     "execution_count": 195,
     "metadata": {},
     "output_type": "execute_result"
    },
    {
     "data": {
      "image/png": "[encoded data removed]",
      "text/plain": [
       "<Figure size 1500x600 with 1 Axes>"
      ]
     },
     "metadata": {},
     "output_type": "display_data"
    }
   ],
   "source": [
    "#Plotando o gráfico para a visualização visual da projeção\n",
    "pd.concat([gold_1_0, previsão],axis=1).plot(label=\"Fechamento\", linewidth=3)\n",
    "plt.legend([\"Dados de fechamento\",\"Dados de projeção\"])\n"
   ]
  }
 ],
 "metadata": {
  "kernelspec": {
   "display_name": "Python 3",
   "language": "python",
   "name": "python3"
  },
  "language_info": {
   "codemirror_mode": {
    "name": "ipython",
    "version": 3
   },
   "file_extension": ".py",
   "mimetype": "text/x-python",
   "name": "python",
   "nbconvert_exporter": "python",
   "pygments_lexer": "ipython3",
   "version": "3.11.3"
  },
  "orig_nbformat": 4
 },
 "nbformat": 4,
 "nbformat_minor": 2
}
